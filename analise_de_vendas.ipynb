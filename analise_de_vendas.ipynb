{
 "cells": [
  {
   "cell_type": "code",
   "execution_count": 125,
   "metadata": {},
   "outputs": [],
   "source": [
    "import numpy as np\n",
    "import pandas as pd\n",
    "import matplotlib as mpl\n",
    "import matplotlib.pyplot as plt\n",
    "import seaborn as sns\n",
    "import statistics as sts\n",
    "\n",
    "pd.set_option('display.max_columns', None)\n",
    "pd.set_option('display.width', 150)\n",
    "pd.set_option('display.max_rows', 20)"
   ]
  },
  {
   "cell_type": "code",
   "execution_count": 126,
   "metadata": {},
   "outputs": [
    {
     "data": {
      "text/html": [
       "<div>\n",
       "<style scoped>\n",
       "    .dataframe tbody tr th:only-of-type {\n",
       "        vertical-align: middle;\n",
       "    }\n",
       "\n",
       "    .dataframe tbody tr th {\n",
       "        vertical-align: top;\n",
       "    }\n",
       "\n",
       "    .dataframe thead th {\n",
       "        text-align: right;\n",
       "    }\n",
       "</style>\n",
       "<table border=\"1\" class=\"dataframe\">\n",
       "  <thead>\n",
       "    <tr style=\"text-align: right;\">\n",
       "      <th></th>\n",
       "      <th>N° da fatura</th>\n",
       "      <th>Data da fatura</th>\n",
       "      <th>ID Cliente</th>\n",
       "      <th>País</th>\n",
       "      <th>Quantidade</th>\n",
       "      <th>Valor</th>\n",
       "    </tr>\n",
       "  </thead>\n",
       "  <tbody>\n",
       "    <tr>\n",
       "      <th>0</th>\n",
       "      <td>548370</td>\n",
       "      <td>3/30/2021 16:14:00</td>\n",
       "      <td>15528.0</td>\n",
       "      <td>United Kingdom</td>\n",
       "      <td>123</td>\n",
       "      <td>229,33</td>\n",
       "    </tr>\n",
       "    <tr>\n",
       "      <th>1</th>\n",
       "      <td>575767</td>\n",
       "      <td>11/11/2021 11:11:00</td>\n",
       "      <td>17348.0</td>\n",
       "      <td>United Kingdom</td>\n",
       "      <td>163</td>\n",
       "      <td>209,73</td>\n",
       "    </tr>\n",
       "    <tr>\n",
       "      <th>2</th>\n",
       "      <td>C570727</td>\n",
       "      <td>10/12/2021 11:32:00</td>\n",
       "      <td>12471.0</td>\n",
       "      <td>Germany</td>\n",
       "      <td>-1</td>\n",
       "      <td>-1,45</td>\n",
       "    </tr>\n",
       "    <tr>\n",
       "      <th>3</th>\n",
       "      <td>549106</td>\n",
       "      <td>4/6/2021 12:08:00</td>\n",
       "      <td>17045.0</td>\n",
       "      <td>United Kingdom</td>\n",
       "      <td>1</td>\n",
       "      <td>39,95</td>\n",
       "    </tr>\n",
       "    <tr>\n",
       "      <th>4</th>\n",
       "      <td>573112</td>\n",
       "      <td>10/27/2021 15:33:00</td>\n",
       "      <td>16416.0</td>\n",
       "      <td>United Kingdom</td>\n",
       "      <td>357</td>\n",
       "      <td>344,83</td>\n",
       "    </tr>\n",
       "    <tr>\n",
       "      <th>5</th>\n",
       "      <td>576630</td>\n",
       "      <td>11/16/2021 8:38:00</td>\n",
       "      <td>13816.0</td>\n",
       "      <td>Germany</td>\n",
       "      <td>91</td>\n",
       "      <td>199,98</td>\n",
       "    </tr>\n",
       "    <tr>\n",
       "      <th>6</th>\n",
       "      <td>538125</td>\n",
       "      <td>12/9/2020 15:46:00</td>\n",
       "      <td>18225.0</td>\n",
       "      <td>United Kingdom</td>\n",
       "      <td>16</td>\n",
       "      <td>30,00</td>\n",
       "    </tr>\n",
       "    <tr>\n",
       "      <th>7</th>\n",
       "      <td>544354</td>\n",
       "      <td>2/18/2021 10:42:00</td>\n",
       "      <td>13489.0</td>\n",
       "      <td>United Kingdom</td>\n",
       "      <td>64</td>\n",
       "      <td>77,28</td>\n",
       "    </tr>\n",
       "    <tr>\n",
       "      <th>8</th>\n",
       "      <td>546369</td>\n",
       "      <td>3/11/2021 11:41:00</td>\n",
       "      <td>15513.0</td>\n",
       "      <td>United Kingdom</td>\n",
       "      <td>10</td>\n",
       "      <td>67,50</td>\n",
       "    </tr>\n",
       "    <tr>\n",
       "      <th>9</th>\n",
       "      <td>570651</td>\n",
       "      <td>10/11/2021 13:34:00</td>\n",
       "      <td>14911.0</td>\n",
       "      <td>EIRE</td>\n",
       "      <td>86</td>\n",
       "      <td>321,35</td>\n",
       "    </tr>\n",
       "  </tbody>\n",
       "</table>\n",
       "</div>"
      ],
      "text/plain": [
       "  N° da fatura       Data da fatura  ID Cliente            País  Quantidade   Valor\n",
       "0       548370   3/30/2021 16:14:00     15528.0  United Kingdom         123  229,33\n",
       "1       575767  11/11/2021 11:11:00     17348.0  United Kingdom         163  209,73\n",
       "2      C570727  10/12/2021 11:32:00     12471.0         Germany          -1   -1,45\n",
       "3       549106    4/6/2021 12:08:00     17045.0  United Kingdom           1   39,95\n",
       "4       573112  10/27/2021 15:33:00     16416.0  United Kingdom         357  344,83\n",
       "5       576630   11/16/2021 8:38:00     13816.0         Germany          91  199,98\n",
       "6       538125   12/9/2020 15:46:00     18225.0  United Kingdom          16   30,00\n",
       "7       544354   2/18/2021 10:42:00     13489.0  United Kingdom          64   77,28\n",
       "8       546369   3/11/2021 11:41:00     15513.0  United Kingdom          10   67,50\n",
       "9       570651  10/11/2021 13:34:00     14911.0            EIRE          86  321,35"
      ]
     },
     "execution_count": 126,
     "metadata": {},
     "output_type": "execute_result"
    }
   ],
   "source": [
    "# Lendo o arquivo\n",
    "vendas = pd.read_csv('Dados/vendas-por-fatura.csv', sep=\",\")\n",
    "vendas.head(10)"
   ]
  },
  {
   "cell_type": "code",
   "execution_count": 127,
   "metadata": {},
   "outputs": [
    {
     "data": {
      "text/html": [
       "<div>\n",
       "<style scoped>\n",
       "    .dataframe tbody tr th:only-of-type {\n",
       "        vertical-align: middle;\n",
       "    }\n",
       "\n",
       "    .dataframe tbody tr th {\n",
       "        vertical-align: top;\n",
       "    }\n",
       "\n",
       "    .dataframe thead th {\n",
       "        text-align: right;\n",
       "    }\n",
       "</style>\n",
       "<table border=\"1\" class=\"dataframe\">\n",
       "  <thead>\n",
       "    <tr style=\"text-align: right;\">\n",
       "      <th></th>\n",
       "      <th>N° da fatura</th>\n",
       "      <th>Data da fatura</th>\n",
       "      <th>País</th>\n",
       "      <th>Valor</th>\n",
       "    </tr>\n",
       "  </thead>\n",
       "  <tbody>\n",
       "    <tr>\n",
       "      <th>count</th>\n",
       "      <td>25953</td>\n",
       "      <td>25953</td>\n",
       "      <td>25953</td>\n",
       "      <td>25953</td>\n",
       "    </tr>\n",
       "    <tr>\n",
       "      <th>unique</th>\n",
       "      <td>25900</td>\n",
       "      <td>23260</td>\n",
       "      <td>38</td>\n",
       "      <td>17540</td>\n",
       "    </tr>\n",
       "    <tr>\n",
       "      <th>top</th>\n",
       "      <td>550333</td>\n",
       "      <td>5/10/2021 15:05:00</td>\n",
       "      <td>United Kingdom</td>\n",
       "      <td>0,00</td>\n",
       "    </tr>\n",
       "    <tr>\n",
       "      <th>freq</th>\n",
       "      <td>2</td>\n",
       "      <td>6</td>\n",
       "      <td>23542</td>\n",
       "      <td>2105</td>\n",
       "    </tr>\n",
       "  </tbody>\n",
       "</table>\n",
       "</div>"
      ],
      "text/plain": [
       "       N° da fatura      Data da fatura            País  Valor\n",
       "count         25953               25953           25953  25953\n",
       "unique        25900               23260              38  17540\n",
       "top          550333  5/10/2021 15:05:00  United Kingdom   0,00\n",
       "freq              2                   6           23542   2105"
      ]
     },
     "execution_count": 127,
     "metadata": {},
     "output_type": "execute_result"
    }
   ],
   "source": [
    "vendas.describe(exclude='number')"
   ]
  },
  {
   "cell_type": "code",
   "execution_count": 128,
   "metadata": {},
   "outputs": [
    {
     "data": {
      "text/plain": [
       "(25953, 6)"
      ]
     },
     "execution_count": 128,
     "metadata": {},
     "output_type": "execute_result"
    }
   ],
   "source": [
    "# Verificando o shape\n",
    "vendas.shape"
   ]
  },
  {
   "cell_type": "code",
   "execution_count": 129,
   "metadata": {},
   "outputs": [
    {
     "name": "stdout",
     "output_type": "stream",
     "text": [
      "<class 'pandas.core.frame.DataFrame'>\n",
      "RangeIndex: 25953 entries, 0 to 25952\n",
      "Data columns (total 6 columns):\n",
      " #   Column          Non-Null Count  Dtype  \n",
      "---  ------          --------------  -----  \n",
      " 0   N° da fatura    25953 non-null  object \n",
      " 1   Data da fatura  25953 non-null  object \n",
      " 2   ID Cliente      22229 non-null  float64\n",
      " 3   País            25953 non-null  object \n",
      " 4   Quantidade      25953 non-null  int64  \n",
      " 5   Valor           25953 non-null  object \n",
      "dtypes: float64(1), int64(1), object(4)\n",
      "memory usage: 1.2+ MB\n"
     ]
    }
   ],
   "source": [
    "# Verificando os tipos de dados\n",
    "vendas.info()"
   ]
  },
  {
   "cell_type": "code",
   "execution_count": 130,
   "metadata": {},
   "outputs": [
    {
     "data": {
      "text/plain": [
       "N° da fatura         0\n",
       "Data da fatura       0\n",
       "ID Cliente        3724\n",
       "País                 0\n",
       "Quantidade           0\n",
       "Valor                0\n",
       "dtype: int64"
      ]
     },
     "execution_count": 130,
     "metadata": {},
     "output_type": "execute_result"
    }
   ],
   "source": [
    "# Verificando se existem valores nulos\n",
    "vendas.isnull().sum()"
   ]
  },
  {
   "cell_type": "code",
   "execution_count": 131,
   "metadata": {},
   "outputs": [
    {
     "data": {
      "text/plain": [
       "array(['United Kingdom', 'Germany', 'EIRE', 'France', 'Sweden', 'Belgium',\n",
       "       'Italy', 'Japan', 'Israel', 'Portugal', 'Netherlands',\n",
       "       'Channel Islands', 'Switzerland', 'Finland', 'Spain', 'Malta',\n",
       "       'Singapore', 'United Arab Emirates', 'Norway', 'Hong Kong',\n",
       "       'Denmark', 'Australia', 'USA', 'Poland', 'Lithuania',\n",
       "       'European Community', 'Austria', 'Cyprus', 'Iceland',\n",
       "       'Unspecified', 'Canada', 'Greece', 'Czech Republic', 'Lebanon',\n",
       "       'Brazil', 'RSA', 'Bahrain', 'Saudi Arabia'], dtype=object)"
      ]
     },
     "execution_count": 131,
     "metadata": {},
     "output_type": "execute_result"
    }
   ],
   "source": [
    "# Verificando os valores unicos na coluna 'País'\n",
    "vendas['País'].unique()"
   ]
  },
  {
   "cell_type": "code",
   "execution_count": 132,
   "metadata": {},
   "outputs": [],
   "source": [
    "# Substituindo os valores 'RSA' por 'South Africa'\n",
    "vendas['País'] = vendas['País'].replace('RSA', 'South Africa')"
   ]
  },
  {
   "cell_type": "code",
   "execution_count": 133,
   "metadata": {},
   "outputs": [
    {
     "name": "stdout",
     "output_type": "stream",
     "text": [
      "13\n"
     ]
    }
   ],
   "source": [
    "# Verificando valores faltantes na coluna 'País'\n",
    "print(contagem_pais.get('Unspecified', 0))"
   ]
  },
  {
   "cell_type": "code",
   "execution_count": 134,
   "metadata": {},
   "outputs": [],
   "source": [
    "# Removendo linhas com valores 'Unspecified'\n",
    "vendas = vendas[vendas['País'] != 'Unspecified']"
   ]
  },
  {
   "cell_type": "code",
   "execution_count": 135,
   "metadata": {},
   "outputs": [
    {
     "data": {
      "text/plain": [
       "array(['United Kingdom', 'Germany', 'EIRE', 'France', 'Sweden', 'Belgium',\n",
       "       'Italy', 'Japan', 'Israel', 'Portugal', 'Netherlands',\n",
       "       'Channel Islands', 'Switzerland', 'Finland', 'Spain', 'Malta',\n",
       "       'Singapore', 'United Arab Emirates', 'Norway', 'Hong Kong',\n",
       "       'Denmark', 'Australia', 'USA', 'Poland', 'Lithuania',\n",
       "       'European Community', 'Austria', 'Cyprus', 'Iceland', 'Canada',\n",
       "       'Greece', 'Czech Republic', 'Lebanon', 'Brazil', 'South Africa',\n",
       "       'Bahrain', 'Saudi Arabia'], dtype=object)"
      ]
     },
     "execution_count": 135,
     "metadata": {},
     "output_type": "execute_result"
    }
   ],
   "source": [
    "# Verificando o resultado da limpeza anterior\n",
    "vendas['País'].unique()"
   ]
  },
  {
   "cell_type": "code",
   "execution_count": 136,
   "metadata": {},
   "outputs": [
    {
     "name": "stdout",
     "output_type": "stream",
     "text": [
      "      N° da fatura       Data da fatura  ID Cliente            País  Quantidade    Valor\n",
      "28          562417    8/4/2021 16:32:00         NaN  United Kingdom         526  1691,38\n",
      "11870       575696  11/10/2021 16:45:00         NaN  United Kingdom           8    10,00\n",
      "6144        546023    3/8/2021 17:29:00         NaN  United Kingdom        -975     0,00\n",
      "8724        558742    7/1/2021 15:56:00         NaN  United Kingdom          -1     0,00\n",
      "633         568411   9/27/2021 10:52:00         NaN  United Kingdom         426  2886,66\n",
      "22630       566924   9/15/2021 15:17:00         NaN  United Kingdom          15     0,00\n",
      "11620       574757   11/7/2021 10:08:00         NaN  United Kingdom         -54     0,00\n",
      "21108       542999    2/2/2021 12:16:00         NaN  United Kingdom          60   523,31\n",
      "24745       549034    4/5/2021 17:08:00         NaN  United Kingdom           2     0,00\n",
      "15626       547009   3/18/2021 14:40:00         NaN  United Kingdom           1     1,25\n",
      "2217        566985   9/16/2021 10:42:00         NaN  United Kingdom         312  2117,26\n",
      "18429       579460  11/29/2021 14:39:00         NaN  United Kingdom        -151     0,00\n",
      "16883       539649  12/20/2020 16:09:00         NaN  United Kingdom          10    42,12\n",
      "12844       565917    9/7/2021 16:15:00         NaN  United Kingdom         411  1752,59\n",
      "12845       567671   9/21/2021 15:34:00         NaN  United Kingdom         597  2199,28\n",
      "19249       538044   12/9/2020 13:11:00         NaN  United Kingdom          16    21,30\n",
      "23671       551009    4/26/2021 9:50:00         NaN  United Kingdom         146  1065,19\n",
      "16154       538133   12/9/2020 15:56:00         NaN  United Kingdom           3     0,00\n",
      "7582        557036   6/16/2021 13:53:00         NaN  United Kingdom        -271     0,00\n",
      "9228       C572448  10/24/2021 12:28:00         NaN  United Kingdom          -2  -329,51\n"
     ]
    }
   ],
   "source": [
    "# Visualizando as linhas com valores ausentes na coluna 'ID Cliente'\n",
    "linhas_nulas = vendas.loc[vendas['ID Cliente'].isnull()]\n",
    "print(linhas_nulas.sample(20))"
   ]
  },
  {
   "cell_type": "code",
   "execution_count": 137,
   "metadata": {},
   "outputs": [
    {
     "data": {
      "text/plain": [
       "array(['United Kingdom', 'Hong Kong', 'Switzerland', 'EIRE', 'France',\n",
       "       'Israel', 'Portugal', 'Bahrain'], dtype=object)"
      ]
     },
     "execution_count": 137,
     "metadata": {},
     "output_type": "execute_result"
    }
   ],
   "source": [
    "# Verificando os registros afetados com valores nulos \n",
    "linhas_nulas['País'].unique()"
   ]
  },
  {
   "cell_type": "code",
   "execution_count": 138,
   "metadata": {},
   "outputs": [
    {
     "data": {
      "text/html": [
       "<div>\n",
       "<style scoped>\n",
       "    .dataframe tbody tr th:only-of-type {\n",
       "        vertical-align: middle;\n",
       "    }\n",
       "\n",
       "    .dataframe tbody tr th {\n",
       "        vertical-align: top;\n",
       "    }\n",
       "\n",
       "    .dataframe thead th {\n",
       "        text-align: right;\n",
       "    }\n",
       "</style>\n",
       "<table border=\"1\" class=\"dataframe\">\n",
       "  <thead>\n",
       "    <tr style=\"text-align: right;\">\n",
       "      <th></th>\n",
       "      <th>N° da fatura</th>\n",
       "      <th>Data da fatura</th>\n",
       "      <th>ID Cliente</th>\n",
       "      <th>País</th>\n",
       "      <th>Quantidade</th>\n",
       "      <th>Valor</th>\n",
       "    </tr>\n",
       "  </thead>\n",
       "  <tbody>\n",
       "    <tr>\n",
       "      <th>14903</th>\n",
       "      <td>572914</td>\n",
       "      <td>10/26/2021 16:25:00</td>\n",
       "      <td>12948.0</td>\n",
       "      <td>United Kingdom</td>\n",
       "      <td>68</td>\n",
       "      <td>127.68</td>\n",
       "    </tr>\n",
       "    <tr>\n",
       "      <th>15192</th>\n",
       "      <td>577805</td>\n",
       "      <td>11/22/2021 8:19:00</td>\n",
       "      <td>13881.0</td>\n",
       "      <td>United Kingdom</td>\n",
       "      <td>658</td>\n",
       "      <td>1459.76</td>\n",
       "    </tr>\n",
       "    <tr>\n",
       "      <th>12070</th>\n",
       "      <td>544915</td>\n",
       "      <td>2/24/2021 15:41:00</td>\n",
       "      <td>13777.0</td>\n",
       "      <td>United Kingdom</td>\n",
       "      <td>90</td>\n",
       "      <td>179.04</td>\n",
       "    </tr>\n",
       "    <tr>\n",
       "      <th>7436</th>\n",
       "      <td>552734</td>\n",
       "      <td>5/11/2021 10:49:00</td>\n",
       "      <td>17428.0</td>\n",
       "      <td>United Kingdom</td>\n",
       "      <td>824</td>\n",
       "      <td>1160.67</td>\n",
       "    </tr>\n",
       "    <tr>\n",
       "      <th>4175</th>\n",
       "      <td>558382</td>\n",
       "      <td>6/28/2021 17:28:00</td>\n",
       "      <td>17997.0</td>\n",
       "      <td>United Kingdom</td>\n",
       "      <td>261</td>\n",
       "      <td>322.53</td>\n",
       "    </tr>\n",
       "  </tbody>\n",
       "</table>\n",
       "</div>"
      ],
      "text/plain": [
       "      N° da fatura       Data da fatura  ID Cliente            País  Quantidade    Valor\n",
       "14903       572914  10/26/2021 16:25:00     12948.0  United Kingdom          68   127.68\n",
       "15192       577805   11/22/2021 8:19:00     13881.0  United Kingdom         658  1459.76\n",
       "12070       544915   2/24/2021 15:41:00     13777.0  United Kingdom          90   179.04\n",
       "7436        552734   5/11/2021 10:49:00     17428.0  United Kingdom         824  1160.67\n",
       "4175        558382   6/28/2021 17:28:00     17997.0  United Kingdom         261   322.53"
      ]
     },
     "execution_count": 138,
     "metadata": {},
     "output_type": "execute_result"
    }
   ],
   "source": [
    "# Substituindo as vírgulas por pontos na coluna 'Valor'\n",
    "vendas['Valor'] = vendas['Valor'].str.replace(',', '.')\n",
    "\n",
    "# Convertendo a coluna 'Valor' de object para float64\n",
    "vendas['Valor'] = vendas['Valor'].astype(float)\n",
    "\n",
    "# Verificando se o separador de casas decimais foi alterado\n",
    "vendas.sample(5)"
   ]
  },
  {
   "cell_type": "code",
   "execution_count": 139,
   "metadata": {},
   "outputs": [
    {
     "name": "stdout",
     "output_type": "stream",
     "text": [
      "<class 'pandas.core.frame.DataFrame'>\n",
      "Index: 25940 entries, 0 to 25952\n",
      "Data columns (total 6 columns):\n",
      " #   Column          Non-Null Count  Dtype  \n",
      "---  ------          --------------  -----  \n",
      " 0   N° da fatura    25940 non-null  object \n",
      " 1   Data da fatura  25940 non-null  object \n",
      " 2   ID Cliente      22221 non-null  float64\n",
      " 3   País            25940 non-null  object \n",
      " 4   Quantidade      25940 non-null  int64  \n",
      " 5   Valor           25940 non-null  float64\n",
      "dtypes: float64(2), int64(1), object(3)\n",
      "memory usage: 1.4+ MB\n"
     ]
    }
   ],
   "source": [
    "# Verificando se a coluna 'Valor' foi convertida para o tipo correto\n",
    "vendas.info()"
   ]
  },
  {
   "cell_type": "code",
   "execution_count": 140,
   "metadata": {},
   "outputs": [
    {
     "data": {
      "text/html": [
       "<div>\n",
       "<style scoped>\n",
       "    .dataframe tbody tr th:only-of-type {\n",
       "        vertical-align: middle;\n",
       "    }\n",
       "\n",
       "    .dataframe tbody tr th {\n",
       "        vertical-align: top;\n",
       "    }\n",
       "\n",
       "    .dataframe thead th {\n",
       "        text-align: right;\n",
       "    }\n",
       "</style>\n",
       "<table border=\"1\" class=\"dataframe\">\n",
       "  <thead>\n",
       "    <tr style=\"text-align: right;\">\n",
       "      <th></th>\n",
       "      <th>N° da fatura</th>\n",
       "      <th>Data da fatura</th>\n",
       "      <th>ID Cliente</th>\n",
       "      <th>País</th>\n",
       "      <th>Quantidade</th>\n",
       "      <th>Valor</th>\n",
       "    </tr>\n",
       "  </thead>\n",
       "  <tbody>\n",
       "    <tr>\n",
       "      <th>0</th>\n",
       "      <td>548370</td>\n",
       "      <td>3/30/2021 16:14:00</td>\n",
       "      <td>15528.0</td>\n",
       "      <td>United Kingdom</td>\n",
       "      <td>123</td>\n",
       "      <td>229.33</td>\n",
       "    </tr>\n",
       "    <tr>\n",
       "      <th>1</th>\n",
       "      <td>575767</td>\n",
       "      <td>11/11/2021 11:11:00</td>\n",
       "      <td>17348.0</td>\n",
       "      <td>United Kingdom</td>\n",
       "      <td>163</td>\n",
       "      <td>209.73</td>\n",
       "    </tr>\n",
       "    <tr>\n",
       "      <th>2</th>\n",
       "      <td>C570727</td>\n",
       "      <td>10/12/2021 11:32:00</td>\n",
       "      <td>12471.0</td>\n",
       "      <td>Germany</td>\n",
       "      <td>-1</td>\n",
       "      <td>-1.45</td>\n",
       "    </tr>\n",
       "    <tr>\n",
       "      <th>3</th>\n",
       "      <td>549106</td>\n",
       "      <td>4/6/2021 12:08:00</td>\n",
       "      <td>17045.0</td>\n",
       "      <td>United Kingdom</td>\n",
       "      <td>1</td>\n",
       "      <td>39.95</td>\n",
       "    </tr>\n",
       "    <tr>\n",
       "      <th>4</th>\n",
       "      <td>573112</td>\n",
       "      <td>10/27/2021 15:33:00</td>\n",
       "      <td>16416.0</td>\n",
       "      <td>United Kingdom</td>\n",
       "      <td>357</td>\n",
       "      <td>344.83</td>\n",
       "    </tr>\n",
       "  </tbody>\n",
       "</table>\n",
       "</div>"
      ],
      "text/plain": [
       "  N° da fatura       Data da fatura  ID Cliente            País  Quantidade   Valor\n",
       "0       548370   3/30/2021 16:14:00     15528.0  United Kingdom         123  229.33\n",
       "1       575767  11/11/2021 11:11:00     17348.0  United Kingdom         163  209.73\n",
       "2      C570727  10/12/2021 11:32:00     12471.0         Germany          -1   -1.45\n",
       "3       549106    4/6/2021 12:08:00     17045.0  United Kingdom           1   39.95\n",
       "4       573112  10/27/2021 15:33:00     16416.0  United Kingdom         357  344.83"
      ]
     },
     "execution_count": 140,
     "metadata": {},
     "output_type": "execute_result"
    }
   ],
   "source": [
    "# Exibindo novamente as 5 primeiras linhas para servir de referência\n",
    "vendas.head(5)"
   ]
  },
  {
   "cell_type": "code",
   "execution_count": 141,
   "metadata": {},
   "outputs": [
    {
     "name": "stdout",
     "output_type": "stream",
     "text": [
      "           Data da fatura        Data   Horario\n",
      "0     2021-03-30 16:14:00  2021-03-30  16:14:00\n",
      "1     2021-11-11 11:11:00  2021-11-11  11:11:00\n",
      "2     2021-10-12 11:32:00  2021-10-12  11:32:00\n",
      "3     2021-04-06 12:08:00  2021-04-06  12:08:00\n",
      "4     2021-10-27 15:33:00  2021-10-27  15:33:00\n",
      "...                   ...         ...       ...\n",
      "25948 2021-06-13 10:53:00  2021-06-13  10:53:00\n",
      "25949 2021-05-13 10:44:00  2021-05-13  10:44:00\n",
      "25950 2021-11-17 13:58:00  2021-11-17  13:58:00\n",
      "25951 2021-04-14 12:39:00  2021-04-14  12:39:00\n",
      "25952 2020-12-09 11:44:00  2020-12-09  11:44:00\n",
      "\n",
      "[25940 rows x 3 columns]\n"
     ]
    }
   ],
   "source": [
    "# Convertendo a coluna 'Data da fatura' para o formato datetime64\n",
    "vendas['Data da fatura'] = pd.to_datetime(vendas['Data da fatura'], format='%m/%d/%Y %H:%M:%S')\n",
    "\n",
    "# Separando a coluna 'Data da fatura' em colunas 'Data' e 'Horario'\n",
    "vendas['Data'] = vendas['Data da fatura'].dt.date\n",
    "vendas['Horario'] = vendas['Data da fatura'].dt.time\n",
    "\n",
    "# Exibindo o DataFrame com as novas colunas\n",
    "print(vendas[['Data da fatura', 'Data', 'Horario']])"
   ]
  },
  {
   "cell_type": "code",
   "execution_count": 142,
   "metadata": {},
   "outputs": [
    {
     "name": "stdout",
     "output_type": "stream",
     "text": [
      "<class 'pandas.core.frame.DataFrame'>\n",
      "Index: 25940 entries, 0 to 25952\n",
      "Data columns (total 8 columns):\n",
      " #   Column          Non-Null Count  Dtype         \n",
      "---  ------          --------------  -----         \n",
      " 0   N° da fatura    25940 non-null  object        \n",
      " 1   Data da fatura  25940 non-null  datetime64[ns]\n",
      " 2   ID Cliente      22221 non-null  float64       \n",
      " 3   País            25940 non-null  object        \n",
      " 4   Quantidade      25940 non-null  int64         \n",
      " 5   Valor           25940 non-null  float64       \n",
      " 6   Data            25940 non-null  object        \n",
      " 7   Horario         25940 non-null  object        \n",
      "dtypes: datetime64[ns](1), float64(2), int64(1), object(4)\n",
      "memory usage: 1.8+ MB\n"
     ]
    }
   ],
   "source": [
    "# Conferindo os tipos de dados após as mudanças\n",
    "vendas.info()"
   ]
  },
  {
   "cell_type": "code",
   "execution_count": 143,
   "metadata": {},
   "outputs": [
    {
     "data": {
      "text/html": [
       "<div>\n",
       "<style scoped>\n",
       "    .dataframe tbody tr th:only-of-type {\n",
       "        vertical-align: middle;\n",
       "    }\n",
       "\n",
       "    .dataframe tbody tr th {\n",
       "        vertical-align: top;\n",
       "    }\n",
       "\n",
       "    .dataframe thead th {\n",
       "        text-align: right;\n",
       "    }\n",
       "</style>\n",
       "<table border=\"1\" class=\"dataframe\">\n",
       "  <thead>\n",
       "    <tr style=\"text-align: right;\">\n",
       "      <th></th>\n",
       "      <th>N° da fatura</th>\n",
       "      <th>Data da fatura</th>\n",
       "      <th>ID Cliente</th>\n",
       "      <th>País</th>\n",
       "      <th>Quantidade</th>\n",
       "      <th>Valor</th>\n",
       "      <th>Data</th>\n",
       "      <th>Horario</th>\n",
       "    </tr>\n",
       "  </thead>\n",
       "  <tbody>\n",
       "    <tr>\n",
       "      <th>0</th>\n",
       "      <td>548370</td>\n",
       "      <td>2021-03-30 16:14:00</td>\n",
       "      <td>15528.0</td>\n",
       "      <td>United Kingdom</td>\n",
       "      <td>123</td>\n",
       "      <td>229.33</td>\n",
       "      <td>2021-03-30</td>\n",
       "      <td>16:14:00</td>\n",
       "    </tr>\n",
       "    <tr>\n",
       "      <th>1</th>\n",
       "      <td>575767</td>\n",
       "      <td>2021-11-11 11:11:00</td>\n",
       "      <td>17348.0</td>\n",
       "      <td>United Kingdom</td>\n",
       "      <td>163</td>\n",
       "      <td>209.73</td>\n",
       "      <td>2021-11-11</td>\n",
       "      <td>11:11:00</td>\n",
       "    </tr>\n",
       "    <tr>\n",
       "      <th>2</th>\n",
       "      <td>C570727</td>\n",
       "      <td>2021-10-12 11:32:00</td>\n",
       "      <td>12471.0</td>\n",
       "      <td>Germany</td>\n",
       "      <td>-1</td>\n",
       "      <td>-1.45</td>\n",
       "      <td>2021-10-12</td>\n",
       "      <td>11:32:00</td>\n",
       "    </tr>\n",
       "    <tr>\n",
       "      <th>3</th>\n",
       "      <td>549106</td>\n",
       "      <td>2021-04-06 12:08:00</td>\n",
       "      <td>17045.0</td>\n",
       "      <td>United Kingdom</td>\n",
       "      <td>1</td>\n",
       "      <td>39.95</td>\n",
       "      <td>2021-04-06</td>\n",
       "      <td>12:08:00</td>\n",
       "    </tr>\n",
       "    <tr>\n",
       "      <th>4</th>\n",
       "      <td>573112</td>\n",
       "      <td>2021-10-27 15:33:00</td>\n",
       "      <td>16416.0</td>\n",
       "      <td>United Kingdom</td>\n",
       "      <td>357</td>\n",
       "      <td>344.83</td>\n",
       "      <td>2021-10-27</td>\n",
       "      <td>15:33:00</td>\n",
       "    </tr>\n",
       "  </tbody>\n",
       "</table>\n",
       "</div>"
      ],
      "text/plain": [
       "  N° da fatura      Data da fatura  ID Cliente            País  Quantidade   Valor        Data   Horario\n",
       "0       548370 2021-03-30 16:14:00     15528.0  United Kingdom         123  229.33  2021-03-30  16:14:00\n",
       "1       575767 2021-11-11 11:11:00     17348.0  United Kingdom         163  209.73  2021-11-11  11:11:00\n",
       "2      C570727 2021-10-12 11:32:00     12471.0         Germany          -1   -1.45  2021-10-12  11:32:00\n",
       "3       549106 2021-04-06 12:08:00     17045.0  United Kingdom           1   39.95  2021-04-06  12:08:00\n",
       "4       573112 2021-10-27 15:33:00     16416.0  United Kingdom         357  344.83  2021-10-27  15:33:00"
      ]
     },
     "execution_count": 143,
     "metadata": {},
     "output_type": "execute_result"
    }
   ],
   "source": [
    "# Exibindo novamente as 5 primeiras linhas para ver como ficou o DataFrame\n",
    "vendas.head(5)"
   ]
  },
  {
   "cell_type": "code",
   "execution_count": 144,
   "metadata": {},
   "outputs": [
    {
     "name": "stdout",
     "output_type": "stream",
     "text": [
      "           DataBR   Horario\n",
      "0      30/03/2021  16:14:00\n",
      "1      11/11/2021  11:11:00\n",
      "2      12/10/2021  11:32:00\n",
      "3      06/04/2021  12:08:00\n",
      "4      27/10/2021  15:33:00\n",
      "...           ...       ...\n",
      "25948  13/06/2021  10:53:00\n",
      "25949  13/05/2021  10:44:00\n",
      "25950  17/11/2021  13:58:00\n",
      "25951  14/04/2021  12:39:00\n",
      "25952  09/12/2020  11:44:00\n",
      "\n",
      "[25940 rows x 2 columns]\n"
     ]
    }
   ],
   "source": [
    "# Criando colunas de data e hora no formato BR\n",
    "vendas['Data'] = pd.to_datetime(vendas['Data'])\n",
    "vendas['DataBR'] = vendas['Data'].dt.strftime('%d/%m/%Y')\n",
    "vendas['Horario'] = pd.to_datetime(vendas['Horario'], format='%H:%M:%S').dt.time\n",
    "vendas = vendas.drop('Data', axis=1)\n",
    "\n",
    "\n",
    "# Exibindo o DataFrame com as novas colunas\n",
    "print(vendas[['DataBR', 'Horario']])"
   ]
  },
  {
   "cell_type": "code",
   "execution_count": 145,
   "metadata": {},
   "outputs": [
    {
     "name": "stdout",
     "output_type": "stream",
     "text": [
      "<class 'pandas.core.frame.DataFrame'>\n",
      "Index: 25940 entries, 0 to 25952\n",
      "Data columns (total 8 columns):\n",
      " #   Column          Non-Null Count  Dtype         \n",
      "---  ------          --------------  -----         \n",
      " 0   N° da fatura    25940 non-null  object        \n",
      " 1   Data da fatura  25940 non-null  datetime64[ns]\n",
      " 2   ID Cliente      22221 non-null  float64       \n",
      " 3   País            25940 non-null  object        \n",
      " 4   Quantidade      25940 non-null  int64         \n",
      " 5   Valor           25940 non-null  float64       \n",
      " 6   Horario         25940 non-null  object        \n",
      " 7   DataBR          25940 non-null  object        \n",
      "dtypes: datetime64[ns](1), float64(2), int64(1), object(4)\n",
      "memory usage: 1.8+ MB\n"
     ]
    }
   ],
   "source": [
    "vendas.info()"
   ]
  },
  {
   "cell_type": "code",
   "execution_count": 146,
   "metadata": {},
   "outputs": [
    {
     "name": "stdout",
     "output_type": "stream",
     "text": [
      "53\n"
     ]
    }
   ],
   "source": [
    "# Verificando se existem valores duplicados\n",
    "total_duplicatas = vendas.duplicated(subset=['N° da fatura']).sum()\n",
    "print(total_duplicatas)"
   ]
  },
  {
   "cell_type": "code",
   "execution_count": 147,
   "metadata": {},
   "outputs": [
    {
     "name": "stdout",
     "output_type": "stream",
     "text": [
      "      N° da fatura  ID Cliente      DataBR  Quantidade    Valor\n",
      "376         542806     12836.0  01/02/2021         254   798.99\n",
      "654         546388         NaN  11/03/2021         548  2472.63\n",
      "1348        542806     12836.0  01/02/2021           6    47.70\n",
      "1377        541809         NaN  21/01/2021         249  1343.71\n",
      "1568       C581384     17673.0  08/12/2021          -2    -6.90\n",
      "...            ...         ...         ...         ...      ...\n",
      "24929       546986     14194.0  18/03/2021          76   213.98\n",
      "25053       553556     17530.0  17/05/2021          34    81.50\n",
      "25094       550333     15410.0  17/04/2021         111   258.85\n",
      "25610       542217     14606.0  26/01/2021          12     7.80\n",
      "25704       568404         NaN  27/09/2021         -17     0.00\n",
      "\n",
      "[106 rows x 5 columns]\n"
     ]
    }
   ],
   "source": [
    "# Verificando dados duplicados na coluna 'N° da fatura'\n",
    "dados_duplicados = vendas[vendas.duplicated(subset=['N° da fatura'], keep=False)]\n",
    "\n",
    "# Exibindo os dados duplicados\n",
    "print(dados_duplicados[['N° da fatura', 'ID Cliente', 'DataBR', 'Quantidade', 'Valor']])"
   ]
  },
  {
   "cell_type": "code",
   "execution_count": 148,
   "metadata": {},
   "outputs": [
    {
     "name": "stdout",
     "output_type": "stream",
     "text": [
      "      N° da fatura      Data da fatura  ID Cliente            País  Quantidade    Valor   Horario      DataBR\n",
      "0           548370 2021-03-30 16:14:00     15528.0  United Kingdom         123   229.33  16:14:00  30/03/2021\n",
      "1           575767 2021-11-11 11:11:00     17348.0  United Kingdom         163   209.73  11:11:00  11/11/2021\n",
      "2          C570727 2021-10-12 11:32:00     12471.0         Germany          -1    -1.45  11:32:00  12/10/2021\n",
      "3           549106 2021-04-06 12:08:00     17045.0  United Kingdom           1    39.95  12:08:00  06/04/2021\n",
      "4           573112 2021-10-27 15:33:00     16416.0  United Kingdom         357   344.83  15:33:00  27/10/2021\n",
      "...            ...                 ...         ...             ...         ...      ...       ...         ...\n",
      "25948      C556518 2021-06-13 10:53:00     16794.0  United Kingdom          -2   -12.70  10:53:00  13/06/2021\n",
      "25949       553060 2021-05-13 10:44:00     15826.0  United Kingdom         488   720.00  10:44:00  13/05/2021\n",
      "25950       577049 2021-11-17 13:58:00     17397.0  United Kingdom         104   298.78  13:58:00  17/11/2021\n",
      "25951       550122 2021-04-14 12:39:00     12931.0  United Kingdom        1176  1488.00  12:39:00  14/04/2021\n",
      "25952       537999 2020-12-09 11:44:00         NaN  United Kingdom        -223     0.00  11:44:00  09/12/2020\n",
      "\n",
      "[25887 rows x 8 columns]\n"
     ]
    }
   ],
   "source": [
    "# Removendo linhas duplicadas com base na coluna 'N° da fatura'\n",
    "vendas_sem_duplicatas = vendas.drop_duplicates(subset=['N° da fatura'])\n",
    "\n",
    "# Exibindo o DataFrame sem as linhas duplicadas\n",
    "print(vendas_sem_duplicatas)"
   ]
  },
  {
   "cell_type": "code",
   "execution_count": 149,
   "metadata": {},
   "outputs": [
    {
     "name": "stdout",
     "output_type": "stream",
     "text": [
      "      N° da fatura      Data da fatura  ID Cliente            País  Quantidade  Valor   Horario      DataBR\n",
      "2          C570727 2021-10-12 11:32:00     12471.0         Germany          -1  -1.45  11:32:00  12/10/2021\n",
      "10         C543628 2021-02-10 15:51:00     16558.0  United Kingdom          -5  -9.25  15:51:00  10/02/2021\n",
      "16          542418 2021-01-27 17:39:00         NaN  United Kingdom         -17   0.00  17:39:00  27/01/2021\n",
      "17         C553508 2021-05-17 13:44:00     14000.0  United Kingdom          -3  -1.95  13:44:00  17/05/2021\n",
      "20         C577693 2021-11-21 11:48:00     12628.0         Germany          -3 -16.85  11:48:00  21/11/2021\n",
      "...            ...                 ...         ...             ...         ...    ...       ...         ...\n",
      "25943      C557061 2021-06-16 14:55:00     14895.0  United Kingdom          -5 -14.75  14:55:00  16/06/2021\n",
      "25944      C562147 2021-08-03 10:47:00     16180.0  United Kingdom          -7 -18.35  10:47:00  03/08/2021\n",
      "25947      C553519 2021-05-17 14:16:00     18218.0  United Kingdom          -2  -9.90  14:16:00  17/05/2021\n",
      "25948      C556518 2021-06-13 10:53:00     16794.0  United Kingdom          -2 -12.70  10:53:00  13/06/2021\n",
      "25952       537999 2020-12-09 11:44:00         NaN  United Kingdom        -223   0.00  11:44:00  09/12/2020\n",
      "\n",
      "[5174 rows x 8 columns]\n"
     ]
    }
   ],
   "source": [
    "# Criando um novo DataFrame com os pedidos devolvidos\n",
    "pedidos_devolvidos = vendas_sem_duplicatas[(vendas_sem_duplicatas['Quantidade'] < 0) | (vendas_sem_duplicatas['Valor'] < 0)]\n",
    "print(pedidos_devolvidos)"
   ]
  },
  {
   "cell_type": "code",
   "execution_count": 150,
   "metadata": {},
   "outputs": [
    {
     "data": {
      "text/plain": [
       "(5174, 8)"
      ]
     },
     "execution_count": 150,
     "metadata": {},
     "output_type": "execute_result"
    }
   ],
   "source": [
    "pedidos_devolvidos.shape"
   ]
  },
  {
   "cell_type": "code",
   "execution_count": 151,
   "metadata": {},
   "outputs": [
    {
     "name": "stdout",
     "output_type": "stream",
     "text": [
      "<class 'pandas.core.frame.DataFrame'>\n",
      "Index: 5174 entries, 2 to 25952\n",
      "Data columns (total 8 columns):\n",
      " #   Column          Non-Null Count  Dtype         \n",
      "---  ------          --------------  -----         \n",
      " 0   N° da fatura    5174 non-null   object        \n",
      " 1   Data da fatura  5174 non-null   datetime64[ns]\n",
      " 2   ID Cliente      3654 non-null   float64       \n",
      " 3   País            5174 non-null   object        \n",
      " 4   Quantidade      5174 non-null   int64         \n",
      " 5   Valor           5174 non-null   float64       \n",
      " 6   Horario         5174 non-null   object        \n",
      " 7   DataBR          5174 non-null   object        \n",
      "dtypes: datetime64[ns](1), float64(2), int64(1), object(4)\n",
      "memory usage: 363.8+ KB\n"
     ]
    }
   ],
   "source": [
    "pedidos_devolvidos.info()"
   ]
  },
  {
   "cell_type": "code",
   "execution_count": 152,
   "metadata": {},
   "outputs": [
    {
     "name": "stdout",
     "output_type": "stream",
     "text": [
      "<class 'pandas.core.frame.DataFrame'>\n",
      "Index: 25887 entries, 0 to 25952\n",
      "Data columns (total 8 columns):\n",
      " #   Column          Non-Null Count  Dtype         \n",
      "---  ------          --------------  -----         \n",
      " 0   N° da fatura    25887 non-null  object        \n",
      " 1   Data da fatura  25887 non-null  datetime64[ns]\n",
      " 2   ID Cliente      22182 non-null  float64       \n",
      " 3   País            25887 non-null  object        \n",
      " 4   Quantidade      25887 non-null  int64         \n",
      " 5   Valor           25887 non-null  float64       \n",
      " 6   Horario         25887 non-null  object        \n",
      " 7   DataBR          25887 non-null  object        \n",
      "dtypes: datetime64[ns](1), float64(2), int64(1), object(4)\n",
      "memory usage: 1.8+ MB\n"
     ]
    }
   ],
   "source": [
    "vendas_sem_duplicatas.info()"
   ]
  }
 ],
 "metadata": {
  "kernelspec": {
   "display_name": "base",
   "language": "python",
   "name": "python3"
  },
  "language_info": {
   "codemirror_mode": {
    "name": "ipython",
    "version": 3
   },
   "file_extension": ".py",
   "mimetype": "text/x-python",
   "name": "python",
   "nbconvert_exporter": "python",
   "pygments_lexer": "ipython3",
   "version": "3.11.5"
  }
 },
 "nbformat": 4,
 "nbformat_minor": 2
}
